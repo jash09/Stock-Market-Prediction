{
  "nbformat": 4,
  "nbformat_minor": 0,
  "metadata": {
    "colab": {
      "name": "Group13_Stock_Market_Trading_using_ML.ipynb",
      "provenance": [],
      "collapsed_sections": []
    },
    "kernelspec": {
      "name": "python3",
      "display_name": "Python 3"
    },
    "language_info": {
      "name": "python"
    }
  },
  "cells": [
    {
      "cell_type": "markdown",
      "metadata": {
        "id": "u-MfcXcPlw9p"
      },
      "source": [
        "\n",
        "## **Topic: Stock Market Trading using Machine Learning and Deep Learning**\n"
      ]
    },
    {
      "cell_type": "markdown",
      "metadata": {
        "id": "J3QEpLvPnYGm"
      },
      "source": [
        "## **Implementation:**"
      ]
    },
    {
      "cell_type": "markdown",
      "metadata": {
        "id": "D2AqLuOWnRJP"
      },
      "source": [
        "### Importing the required Libraries"
      ]
    },
    {
      "cell_type": "code",
      "metadata": {
        "id": "Bgp-mcj7kNFp"
      },
      "source": [
        "import pandas as pd #For data related tasks\n",
        "import numpy as np \n",
        "import matplotlib.pyplot as plt #For data visualization \n",
        "from sklearn.tree import DecisionTreeRegressor # Decision Tree classifier\n",
        "from sklearn.linear_model import LinearRegression #Linear Regression\n",
        "from sklearn.ensemble import RandomForestRegressor #Random Forest Regression\n",
        "from sklearn.metrics import mean_absolute_error #Mean Absolute Error\n",
        "from sklearn.metrics import mean_squared_error #Mean Squared Error\n",
        "import math\n",
        "from sklearn.preprocessing import MinMaxScaler #Min Max Scaler Normalization\n",
        "from tensorflow.keras.models import Sequential \n",
        "from tensorflow.keras.layers import Dense, LSTM\n"
      ],
      "execution_count": null,
      "outputs": []
    },
    {
      "cell_type": "markdown",
      "metadata": {
        "id": "1ZVmoIewneVg"
      },
      "source": [
        "### Importing the CSV named 'Amazon'"
      ]
    },
    {
      "cell_type": "markdown",
      "metadata": {
        "id": "5z5hMYkgoVdT"
      },
      "source": [
        "We chose a dataset from Amazon dated 04-01-2010 to 31-12-2020. \\\\\n",
        "This dataset attribute is open, high, low, close and volume but we selected close as a label data and the rest of to extract the features that\n",
        "will help to predict the result. \n",
        "\n",
        "Source: https://finance.yahoo.com/quote/AMZN/history?p=AMZN"
      ]
    },
    {
      "cell_type": "code",
      "metadata": {
        "colab": {
          "resources": {
            "http://localhost:8080/nbextensions/google.colab/files.js": {
              "data": "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",
              "ok": true,
              "headers": [
                [
                  "content-type",
                  "application/javascript"
                ]
              ],
              "status": 200,
              "status_text": ""
            }
          },
          "base_uri": "https://localhost:8080/",
          "height": 73
        },
        "id": "3P2p9lzBknsd",
        "outputId": "f3c03bea-04ae-4f34-87e2-973ac6db2c31"
      },
      "source": [
        "from google.colab import files\n",
        "uploaded = files.upload()"
      ],
      "execution_count": null,
      "outputs": [
        {
          "output_type": "display_data",
          "data": {
            "text/html": [
              "\n",
              "     <input type=\"file\" id=\"files-80c4b055-8bde-44e6-b292-296a5b82e155\" name=\"files[]\" multiple disabled\n",
              "        style=\"border:none\" />\n",
              "     <output id=\"result-80c4b055-8bde-44e6-b292-296a5b82e155\">\n",
              "      Upload widget is only available when the cell has been executed in the\n",
              "      current browser session. Please rerun this cell to enable.\n",
              "      </output>\n",
              "      <script src=\"/nbextensions/google.colab/files.js\"></script> "
            ],
            "text/plain": [
              "<IPython.core.display.HTML object>"
            ]
          },
          "metadata": {}
        },
        {
          "output_type": "stream",
          "name": "stdout",
          "text": [
            "Saving Amazon.csv to Amazon.csv\n"
          ]
        }
      ]
    },
    {
      "cell_type": "markdown",
      "metadata": {
        "id": "zXKUlMc4pMXM"
      },
      "source": [
        "### Converting the values into a dataframe"
      ]
    },
    {
      "cell_type": "code",
      "metadata": {
        "id": "f4MpdSN1k4aJ"
      },
      "source": [
        "import io\n",
        "df = pd.read_csv(io.BytesIO(uploaded['Amazon.csv']))"
      ],
      "execution_count": null,
      "outputs": []
    },
    {
      "cell_type": "code",
      "metadata": {
        "colab": {
          "base_uri": "https://localhost:8080/",
          "height": 203
        },
        "id": "viT6SssRk4e5",
        "outputId": "0ffd2b70-273f-456a-9d53-63323c56846e"
      },
      "source": [
        "df.head()"
      ],
      "execution_count": null,
      "outputs": [
        {
          "output_type": "execute_result",
          "data": {
            "text/html": [
              "<div>\n",
              "<style scoped>\n",
              "    .dataframe tbody tr th:only-of-type {\n",
              "        vertical-align: middle;\n",
              "    }\n",
              "\n",
              "    .dataframe tbody tr th {\n",
              "        vertical-align: top;\n",
              "    }\n",
              "\n",
              "    .dataframe thead th {\n",
              "        text-align: right;\n",
              "    }\n",
              "</style>\n",
              "<table border=\"1\" class=\"dataframe\">\n",
              "  <thead>\n",
              "    <tr style=\"text-align: right;\">\n",
              "      <th></th>\n",
              "      <th>Date</th>\n",
              "      <th>Open</th>\n",
              "      <th>High</th>\n",
              "      <th>Low</th>\n",
              "      <th>Volume</th>\n",
              "      <th>Close</th>\n",
              "    </tr>\n",
              "  </thead>\n",
              "  <tbody>\n",
              "    <tr>\n",
              "      <th>0</th>\n",
              "      <td>04-01-2010</td>\n",
              "      <td>136.250000</td>\n",
              "      <td>136.610001</td>\n",
              "      <td>133.139999</td>\n",
              "      <td>7599900</td>\n",
              "      <td>133.899994</td>\n",
              "    </tr>\n",
              "    <tr>\n",
              "      <th>1</th>\n",
              "      <td>05-01-2010</td>\n",
              "      <td>133.429993</td>\n",
              "      <td>135.479996</td>\n",
              "      <td>131.809998</td>\n",
              "      <td>8851900</td>\n",
              "      <td>134.690002</td>\n",
              "    </tr>\n",
              "    <tr>\n",
              "      <th>2</th>\n",
              "      <td>06-01-2010</td>\n",
              "      <td>134.600006</td>\n",
              "      <td>134.729996</td>\n",
              "      <td>131.649994</td>\n",
              "      <td>7178800</td>\n",
              "      <td>132.250000</td>\n",
              "    </tr>\n",
              "    <tr>\n",
              "      <th>3</th>\n",
              "      <td>07-01-2010</td>\n",
              "      <td>132.009995</td>\n",
              "      <td>132.320007</td>\n",
              "      <td>128.800003</td>\n",
              "      <td>11030200</td>\n",
              "      <td>130.000000</td>\n",
              "    </tr>\n",
              "    <tr>\n",
              "      <th>4</th>\n",
              "      <td>08-01-2010</td>\n",
              "      <td>130.559998</td>\n",
              "      <td>133.679993</td>\n",
              "      <td>129.029999</td>\n",
              "      <td>9830500</td>\n",
              "      <td>133.520004</td>\n",
              "    </tr>\n",
              "  </tbody>\n",
              "</table>\n",
              "</div>"
            ],
            "text/plain": [
              "         Date        Open        High         Low    Volume       Close\n",
              "0  04-01-2010  136.250000  136.610001  133.139999   7599900  133.899994\n",
              "1  05-01-2010  133.429993  135.479996  131.809998   8851900  134.690002\n",
              "2  06-01-2010  134.600006  134.729996  131.649994   7178800  132.250000\n",
              "3  07-01-2010  132.009995  132.320007  128.800003  11030200  130.000000\n",
              "4  08-01-2010  130.559998  133.679993  129.029999   9830500  133.520004"
            ]
          },
          "metadata": {},
          "execution_count": 4
        }
      ]
    },
    {
      "cell_type": "code",
      "metadata": {
        "colab": {
          "base_uri": "https://localhost:8080/",
          "height": 203
        },
        "id": "_UO08L51azRy",
        "outputId": "661de97f-f3cb-4718-c501-f13a69140a50"
      },
      "source": [
        "df.tail()"
      ],
      "execution_count": null,
      "outputs": [
        {
          "output_type": "execute_result",
          "data": {
            "text/html": [
              "<div>\n",
              "<style scoped>\n",
              "    .dataframe tbody tr th:only-of-type {\n",
              "        vertical-align: middle;\n",
              "    }\n",
              "\n",
              "    .dataframe tbody tr th {\n",
              "        vertical-align: top;\n",
              "    }\n",
              "\n",
              "    .dataframe thead th {\n",
              "        text-align: right;\n",
              "    }\n",
              "</style>\n",
              "<table border=\"1\" class=\"dataframe\">\n",
              "  <thead>\n",
              "    <tr style=\"text-align: right;\">\n",
              "      <th></th>\n",
              "      <th>Date</th>\n",
              "      <th>Open</th>\n",
              "      <th>High</th>\n",
              "      <th>Low</th>\n",
              "      <th>Volume</th>\n",
              "      <th>Close</th>\n",
              "    </tr>\n",
              "  </thead>\n",
              "  <tbody>\n",
              "    <tr>\n",
              "      <th>2764</th>\n",
              "      <td>24-12-2020</td>\n",
              "      <td>3193.899902</td>\n",
              "      <td>3202.000000</td>\n",
              "      <td>3169.000000</td>\n",
              "      <td>1451900</td>\n",
              "      <td>3172.689941</td>\n",
              "    </tr>\n",
              "    <tr>\n",
              "      <th>2765</th>\n",
              "      <td>28-12-2020</td>\n",
              "      <td>3194.000000</td>\n",
              "      <td>3304.000000</td>\n",
              "      <td>3172.689941</td>\n",
              "      <td>5686800</td>\n",
              "      <td>3283.959961</td>\n",
              "    </tr>\n",
              "    <tr>\n",
              "      <th>2766</th>\n",
              "      <td>29-12-2020</td>\n",
              "      <td>3309.939941</td>\n",
              "      <td>3350.649902</td>\n",
              "      <td>3281.219971</td>\n",
              "      <td>4872900</td>\n",
              "      <td>3322.000000</td>\n",
              "    </tr>\n",
              "    <tr>\n",
              "      <th>2767</th>\n",
              "      <td>30-12-2020</td>\n",
              "      <td>3341.000000</td>\n",
              "      <td>3342.100098</td>\n",
              "      <td>3282.469971</td>\n",
              "      <td>3209300</td>\n",
              "      <td>3285.850098</td>\n",
              "    </tr>\n",
              "    <tr>\n",
              "      <th>2768</th>\n",
              "      <td>31-12-2020</td>\n",
              "      <td>3275.000000</td>\n",
              "      <td>3282.919922</td>\n",
              "      <td>3241.199951</td>\n",
              "      <td>2957200</td>\n",
              "      <td>3256.929932</td>\n",
              "    </tr>\n",
              "  </tbody>\n",
              "</table>\n",
              "</div>"
            ],
            "text/plain": [
              "            Date         Open         High          Low   Volume        Close\n",
              "2764  24-12-2020  3193.899902  3202.000000  3169.000000  1451900  3172.689941\n",
              "2765  28-12-2020  3194.000000  3304.000000  3172.689941  5686800  3283.959961\n",
              "2766  29-12-2020  3309.939941  3350.649902  3281.219971  4872900  3322.000000\n",
              "2767  30-12-2020  3341.000000  3342.100098  3282.469971  3209300  3285.850098\n",
              "2768  31-12-2020  3275.000000  3282.919922  3241.199951  2957200  3256.929932"
            ]
          },
          "metadata": {},
          "execution_count": 5
        }
      ]
    },
    {
      "cell_type": "code",
      "metadata": {
        "colab": {
          "base_uri": "https://localhost:8080/"
        },
        "id": "IOOr9A0rlF7S",
        "outputId": "6517d518-1fb5-4577-997b-b1941baa5a80"
      },
      "source": [
        "df.shape"
      ],
      "execution_count": null,
      "outputs": [
        {
          "output_type": "execute_result",
          "data": {
            "text/plain": [
              "(2769, 6)"
            ]
          },
          "metadata": {},
          "execution_count": 6
        }
      ]
    },
    {
      "cell_type": "markdown",
      "metadata": {
        "id": "m7e2VtatppoR"
      },
      "source": [
        "## **Data Pre-Processing**\n",
        "\n",
        "#### 1. We will check for null values in the entire dataset\n",
        "#### 2. Round all the values upto 2 decimal places"
      ]
    },
    {
      "cell_type": "code",
      "metadata": {
        "colab": {
          "base_uri": "https://localhost:8080/"
        },
        "id": "1uNQdF0GlF9w",
        "outputId": "3e744326-6e2a-492c-b4e4-8e570714b64a"
      },
      "source": [
        "df.isnull().sum()"
      ],
      "execution_count": null,
      "outputs": [
        {
          "output_type": "execute_result",
          "data": {
            "text/plain": [
              "Date      0\n",
              "Open      0\n",
              "High      0\n",
              "Low       0\n",
              "Volume    0\n",
              "Close     0\n",
              "dtype: int64"
            ]
          },
          "metadata": {},
          "execution_count": 7
        }
      ]
    },
    {
      "cell_type": "code",
      "metadata": {
        "colab": {
          "base_uri": "https://localhost:8080/",
          "height": 417
        },
        "id": "9o3Gs_j2pf4N",
        "outputId": "461f4a97-b191-4d09-e746-b371655c9cca"
      },
      "source": [
        "df.round({'Open': 2, 'High': 2, 'Low': 2, 'Volume': 2, 'Close': 2})"
      ],
      "execution_count": null,
      "outputs": [
        {
          "output_type": "execute_result",
          "data": {
            "text/html": [
              "<div>\n",
              "<style scoped>\n",
              "    .dataframe tbody tr th:only-of-type {\n",
              "        vertical-align: middle;\n",
              "    }\n",
              "\n",
              "    .dataframe tbody tr th {\n",
              "        vertical-align: top;\n",
              "    }\n",
              "\n",
              "    .dataframe thead th {\n",
              "        text-align: right;\n",
              "    }\n",
              "</style>\n",
              "<table border=\"1\" class=\"dataframe\">\n",
              "  <thead>\n",
              "    <tr style=\"text-align: right;\">\n",
              "      <th></th>\n",
              "      <th>Date</th>\n",
              "      <th>Open</th>\n",
              "      <th>High</th>\n",
              "      <th>Low</th>\n",
              "      <th>Volume</th>\n",
              "      <th>Close</th>\n",
              "    </tr>\n",
              "  </thead>\n",
              "  <tbody>\n",
              "    <tr>\n",
              "      <th>0</th>\n",
              "      <td>04-01-2010</td>\n",
              "      <td>136.25</td>\n",
              "      <td>136.61</td>\n",
              "      <td>133.14</td>\n",
              "      <td>7599900</td>\n",
              "      <td>133.90</td>\n",
              "    </tr>\n",
              "    <tr>\n",
              "      <th>1</th>\n",
              "      <td>05-01-2010</td>\n",
              "      <td>133.43</td>\n",
              "      <td>135.48</td>\n",
              "      <td>131.81</td>\n",
              "      <td>8851900</td>\n",
              "      <td>134.69</td>\n",
              "    </tr>\n",
              "    <tr>\n",
              "      <th>2</th>\n",
              "      <td>06-01-2010</td>\n",
              "      <td>134.60</td>\n",
              "      <td>134.73</td>\n",
              "      <td>131.65</td>\n",
              "      <td>7178800</td>\n",
              "      <td>132.25</td>\n",
              "    </tr>\n",
              "    <tr>\n",
              "      <th>3</th>\n",
              "      <td>07-01-2010</td>\n",
              "      <td>132.01</td>\n",
              "      <td>132.32</td>\n",
              "      <td>128.80</td>\n",
              "      <td>11030200</td>\n",
              "      <td>130.00</td>\n",
              "    </tr>\n",
              "    <tr>\n",
              "      <th>4</th>\n",
              "      <td>08-01-2010</td>\n",
              "      <td>130.56</td>\n",
              "      <td>133.68</td>\n",
              "      <td>129.03</td>\n",
              "      <td>9830500</td>\n",
              "      <td>133.52</td>\n",
              "    </tr>\n",
              "    <tr>\n",
              "      <th>...</th>\n",
              "      <td>...</td>\n",
              "      <td>...</td>\n",
              "      <td>...</td>\n",
              "      <td>...</td>\n",
              "      <td>...</td>\n",
              "      <td>...</td>\n",
              "    </tr>\n",
              "    <tr>\n",
              "      <th>2764</th>\n",
              "      <td>24-12-2020</td>\n",
              "      <td>3193.90</td>\n",
              "      <td>3202.00</td>\n",
              "      <td>3169.00</td>\n",
              "      <td>1451900</td>\n",
              "      <td>3172.69</td>\n",
              "    </tr>\n",
              "    <tr>\n",
              "      <th>2765</th>\n",
              "      <td>28-12-2020</td>\n",
              "      <td>3194.00</td>\n",
              "      <td>3304.00</td>\n",
              "      <td>3172.69</td>\n",
              "      <td>5686800</td>\n",
              "      <td>3283.96</td>\n",
              "    </tr>\n",
              "    <tr>\n",
              "      <th>2766</th>\n",
              "      <td>29-12-2020</td>\n",
              "      <td>3309.94</td>\n",
              "      <td>3350.65</td>\n",
              "      <td>3281.22</td>\n",
              "      <td>4872900</td>\n",
              "      <td>3322.00</td>\n",
              "    </tr>\n",
              "    <tr>\n",
              "      <th>2767</th>\n",
              "      <td>30-12-2020</td>\n",
              "      <td>3341.00</td>\n",
              "      <td>3342.10</td>\n",
              "      <td>3282.47</td>\n",
              "      <td>3209300</td>\n",
              "      <td>3285.85</td>\n",
              "    </tr>\n",
              "    <tr>\n",
              "      <th>2768</th>\n",
              "      <td>31-12-2020</td>\n",
              "      <td>3275.00</td>\n",
              "      <td>3282.92</td>\n",
              "      <td>3241.20</td>\n",
              "      <td>2957200</td>\n",
              "      <td>3256.93</td>\n",
              "    </tr>\n",
              "  </tbody>\n",
              "</table>\n",
              "<p>2769 rows × 6 columns</p>\n",
              "</div>"
            ],
            "text/plain": [
              "            Date     Open     High      Low    Volume    Close\n",
              "0     04-01-2010   136.25   136.61   133.14   7599900   133.90\n",
              "1     05-01-2010   133.43   135.48   131.81   8851900   134.69\n",
              "2     06-01-2010   134.60   134.73   131.65   7178800   132.25\n",
              "3     07-01-2010   132.01   132.32   128.80  11030200   130.00\n",
              "4     08-01-2010   130.56   133.68   129.03   9830500   133.52\n",
              "...          ...      ...      ...      ...       ...      ...\n",
              "2764  24-12-2020  3193.90  3202.00  3169.00   1451900  3172.69\n",
              "2765  28-12-2020  3194.00  3304.00  3172.69   5686800  3283.96\n",
              "2766  29-12-2020  3309.94  3350.65  3281.22   4872900  3322.00\n",
              "2767  30-12-2020  3341.00  3342.10  3282.47   3209300  3285.85\n",
              "2768  31-12-2020  3275.00  3282.92  3241.20   2957200  3256.93\n",
              "\n",
              "[2769 rows x 6 columns]"
            ]
          },
          "metadata": {},
          "execution_count": 8
        }
      ]
    },
    {
      "cell_type": "markdown",
      "metadata": {
        "id": "om-5wpJMp_cb"
      },
      "source": [
        "###Converting the dataframe into array.values for easy access to features and target variable and also for training the model."
      ]
    },
    {
      "cell_type": "code",
      "metadata": {
        "id": "w7xnEyPklGAS"
      },
      "source": [
        "array = df.values"
      ],
      "execution_count": null,
      "outputs": []
    },
    {
      "cell_type": "markdown",
      "metadata": {
        "id": "Dt76Ey03qbJg"
      },
      "source": [
        "## **Features X:** Attributes: {'Open', 'High', 'Low', 'Volume'}\n",
        "## **Target Y:** Attribute:  {'Close'}\t"
      ]
    },
    {
      "cell_type": "code",
      "metadata": {
        "id": "8pMN0mFllGCj"
      },
      "source": [
        "X = array[:,1:5]\n",
        "Y = array[:,5]"
      ],
      "execution_count": null,
      "outputs": []
    },
    {
      "cell_type": "code",
      "metadata": {
        "colab": {
          "base_uri": "https://localhost:8080/"
        },
        "id": "TXqAU8CpqyEW",
        "outputId": "8d3525fe-401f-4afb-8d9e-6b2ad558f1ea"
      },
      "source": [
        "print('Features X: \\n\\n{} '.format(X))"
      ],
      "execution_count": null,
      "outputs": [
        {
          "output_type": "stream",
          "name": "stdout",
          "text": [
            "Features X: \n",
            "\n",
            "[[136.25 136.610001 133.139999 7599900]\n",
            " [133.429993 135.479996 131.809998 8851900]\n",
            " [134.600006 134.729996 131.649994 7178800]\n",
            " ...\n",
            " [3309.939941 3350.649902 3281.219971 4872900]\n",
            " [3341.0 3342.100098 3282.469971 3209300]\n",
            " [3275.0 3282.919922 3241.199951 2957200]] \n"
          ]
        }
      ]
    },
    {
      "cell_type": "code",
      "metadata": {
        "id": "tMVqo73OrH-m",
        "colab": {
          "base_uri": "https://localhost:8080/"
        },
        "outputId": "c0f0a226-28c7-4658-bd42-a1c499992140"
      },
      "source": [
        "print('Target Variable Y: \\n\\n{} '.format(Y))"
      ],
      "execution_count": null,
      "outputs": [
        {
          "output_type": "stream",
          "name": "stdout",
          "text": [
            "Target Variable Y: \n",
            "\n",
            "[133.899994 134.690002 132.25 ... 3322.0 3285.850098 3256.929932] \n"
          ]
        }
      ]
    },
    {
      "cell_type": "markdown",
      "metadata": {
        "id": "HZPRjK4OrS9F"
      },
      "source": [
        "## **Train-Test Split into 80-20 ratio**\n",
        "\n",
        "The percentage of trains and tests would impact the\n",
        "accuracy of predicting the result. \\\\\n",
        "At this stage what ratio you want to choose\n",
        "for the train and test dataset it’s up to you but if\n",
        "you take more train dataset compare to test then\n",
        "accuracy would be better. The general ratio for train\n",
        "and test dataset is 80% and 20% respectively"
      ]
    },
    {
      "cell_type": "code",
      "metadata": {
        "id": "zZD5Yjz7lGFC"
      },
      "source": [
        "from sklearn.model_selection import train_test_split\n",
        "X_train,X_test,y_train,y_test = train_test_split(X,Y,test_size = 0.2,random_state = 0)"
      ],
      "execution_count": null,
      "outputs": []
    },
    {
      "cell_type": "markdown",
      "metadata": {
        "id": "jNkFwZRArmu7"
      },
      "source": [
        "To compare, we'll use three algorithms. The algorithms are picked based on the findings of our survey paper.\n",
        "\n",
        "Result from Survey Paper:\n",
        "\n",
        "![image.png](data:image/png;base64,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)\n",
        "\n",
        "On the basis of highest accuracy, the three algorithms are:\n",
        "\n",
        "**1. Simple Linear Regression** \\\\\n",
        "**2. Decision Tree Regression** \\\\\n",
        "**3. Random Forest Regression** \\\\\n",
        "\n",
        "\n",
        "\n"
      ]
    },
    {
      "cell_type": "code",
      "metadata": {
        "id": "lAoH2bzYlGHS"
      },
      "source": [
        "LR = LinearRegression()\n",
        "Classifier = DecisionTreeRegressor()\n",
        "clf=RandomForestRegressor()"
      ],
      "execution_count": null,
      "outputs": []
    },
    {
      "cell_type": "markdown",
      "metadata": {
        "id": "ZATkcCFnt16q"
      },
      "source": [
        "### We will fit all these three algorithms with X_train and y_train."
      ]
    },
    {
      "cell_type": "code",
      "metadata": {
        "id": "MSpRiZSdlGJR",
        "colab": {
          "base_uri": "https://localhost:8080/"
        },
        "outputId": "5e497a59-6ea4-45c9-a581-7eaeb8939c10"
      },
      "source": [
        "LR.fit(X_train,y_train)\n",
        "Classifier.fit(X_train,y_train)\n",
        "clf.fit(X_train,y_train)"
      ],
      "execution_count": null,
      "outputs": [
        {
          "output_type": "execute_result",
          "data": {
            "text/plain": [
              "RandomForestRegressor(bootstrap=True, ccp_alpha=0.0, criterion='mse',\n",
              "                      max_depth=None, max_features='auto', max_leaf_nodes=None,\n",
              "                      max_samples=None, min_impurity_decrease=0.0,\n",
              "                      min_impurity_split=None, min_samples_leaf=1,\n",
              "                      min_samples_split=2, min_weight_fraction_leaf=0.0,\n",
              "                      n_estimators=100, n_jobs=None, oob_score=False,\n",
              "                      random_state=None, verbose=0, warm_start=False)"
            ]
          },
          "metadata": {},
          "execution_count": 15
        }
      ]
    },
    {
      "cell_type": "markdown",
      "metadata": {
        "id": "KUzP3RtevjtO"
      },
      "source": [
        "### Prediction of X_test i.e. Testing data using all three algorithms"
      ]
    },
    {
      "cell_type": "code",
      "metadata": {
        "id": "85_5hJQHlGSV"
      },
      "source": [
        "y_pred_LR = LR.predict(X_test)\n",
        "y_pred_DT = Classifier.predict(X_test)\n",
        "y_pred_RFR = clf.predict(X_test)"
      ],
      "execution_count": null,
      "outputs": []
    },
    {
      "cell_type": "markdown",
      "metadata": {
        "id": "2Wx1nbyNuGay"
      },
      "source": [
        "Since these are regression algorithms, we'll utilise the following metrics:\n",
        "\n",
        "\n",
        "\n",
        "*   Mean Absolute Error\n",
        "*   Mean Squared Error\n",
        "*   Root Mean Squared Error\n",
        "\n",
        "\n",
        "\n",
        "\n"
      ]
    },
    {
      "cell_type": "code",
      "metadata": {
        "colab": {
          "base_uri": "https://localhost:8080/"
        },
        "id": "49CdrzARvysu",
        "outputId": "1292738e-0dfd-4e87-ac64-adaef93cb957"
      },
      "source": [
        "mae_lr =  mean_absolute_error(y_test,y_pred_LR)\n",
        "mae_dt =  mean_absolute_error(y_test,y_pred_DT)\n",
        "mae_rfr = mean_absolute_error(y_test,y_pred_RFR)\n",
        "\n",
        "mse_lr =  mean_squared_error(y_test,y_pred_LR)\n",
        "mse_dt =  mean_squared_error(y_test,y_pred_DT)\n",
        "mse_rfr = mean_squared_error(y_test,y_pred_RFR)\n",
        "\n",
        "rmse_lr = np.sqrt(mse_lr)\n",
        "rmse_dt = np.sqrt(mse_dt)\n",
        "rmse_rfr = np.sqrt(mse_rfr)\n",
        "\n",
        "print('\\033[1m' + \"Simple Linear Regression \\t       Decision Tree Regression \\t       Random Forest Regression\")\n",
        "print(\"MAE: {0:.4f} \\t\\t               MAE: {1:.4f} \\t                       MAE: {2:.4f}\".format(mae_lr,mae_dt,mae_rfr))\n",
        "print(\"MSE: {0:.4f} \\t\\t               MSE: {1:.4f} \\t                       MSE: {2:.4f}\".format(mse_lr,mse_dt,mse_rfr))\n",
        "print(\"RMSE: {0:.4f} \\t\\t               RMSE: {1:.4f} \\t                       RMSE: {2:.4f}\".format(rmse_lr,rmse_dt,rmse_rfr))\n"
      ],
      "execution_count": null,
      "outputs": [
        {
          "output_type": "stream",
          "name": "stdout",
          "text": [
            "\u001b[1mSimple Linear Regression \t       Decision Tree Regression \t       Random Forest Regression\n",
            "MAE: 5.0599 \t\t               MAE: 8.8233 \t                       MAE: 6.9075\n",
            "MSE: 104.9888 \t\t               MSE: 327.9825 \t                       MSE: 188.3498\n",
            "RMSE: 10.2464 \t\t               RMSE: 18.1103 \t                       RMSE: 13.7241\n"
          ]
        }
      ]
    },
    {
      "cell_type": "markdown",
      "metadata": {
        "id": "3FPrX_7jxXF4"
      },
      "source": [
        "According to the above MAE and RMSE Score, the Simple Linear Regression Algorithm is the most accurate with least Mean Absolute Error and Root Mean Squared Error."
      ]
    },
    {
      "cell_type": "markdown",
      "metadata": {
        "id": "RCcfr3HA-I1P"
      },
      "source": [
        "# **Long Short-Term Memory**"
      ]
    },
    {
      "cell_type": "markdown",
      "metadata": {
        "id": "2gcfFvo9ExjJ"
      },
      "source": [
        "### Plotting Close Price History using matplotlib"
      ]
    },
    {
      "cell_type": "code",
      "metadata": {
        "execution": {
          "iopub.status.busy": "2021-08-01T10:05:59.497454Z",
          "iopub.execute_input": "2021-08-01T10:05:59.497817Z",
          "iopub.status.idle": "2021-08-01T10:05:59.776587Z",
          "shell.execute_reply.started": "2021-08-01T10:05:59.497773Z",
          "shell.execute_reply": "2021-08-01T10:05:59.775021Z"
        },
        "trusted": true,
        "colab": {
          "base_uri": "https://localhost:8080/",
          "height": 521
        },
        "id": "FpEBRIQxExjJ",
        "outputId": "90d80655-1b2e-4396-8fab-208bc7d23f25"
      },
      "source": [
        "import seaborn as sns\n",
        "plt.figure(figsize=(16,8))\n",
        "plt.title('Close Price History')\n",
        "plt.plot(df['Close'])\n",
        "#ax=sns.lineplot(data=df, x='timestamp',y='close', color=\"blue\");\n",
        "plt.xlabel('timestamp',fontsize=18)\n",
        "plt.ylabel('Close Price INR',fontsize=18)\n",
        "plt.show()"
      ],
      "execution_count": null,
      "outputs": [
        {
          "output_type": "display_data",
          "data": {
            "image/png": "[encoded data removed]",
            "text/plain": [
              "<Figure size 1152x576 with 1 Axes>"
            ]
          },
          "metadata": {
            "needs_background": "light"
          }
        }
      ]
    },
    {
      "cell_type": "markdown",
      "metadata": {
        "id": "fO_StVHLExjK"
      },
      "source": [
        "### Converting data to a numpy array "
      ]
    },
    {
      "cell_type": "code",
      "metadata": {
        "execution": {
          "iopub.status.busy": "2021-08-01T10:05:59.778649Z",
          "iopub.execute_input": "2021-08-01T10:05:59.779122Z",
          "iopub.status.idle": "2021-08-01T10:05:59.786987Z",
          "shell.execute_reply.started": "2021-08-01T10:05:59.779070Z",
          "shell.execute_reply": "2021-08-01T10:05:59.785917Z"
        },
        "trusted": true,
        "id": "t3MvTXrXExjK"
      },
      "source": [
        "data = df.filter(['Close'])\n",
        "dataset = data.values\n",
        "training_data_len = math.ceil( len(dataset) *.8) "
      ],
      "execution_count": null,
      "outputs": []
    },
    {
      "cell_type": "code",
      "metadata": {
        "execution": {
          "iopub.status.busy": "2021-08-01T10:05:59.788505Z",
          "iopub.execute_input": "2021-08-01T10:05:59.788866Z",
          "iopub.status.idle": "2021-08-01T10:05:59.802601Z",
          "shell.execute_reply.started": "2021-08-01T10:05:59.788832Z",
          "shell.execute_reply": "2021-08-01T10:05:59.801453Z"
        },
        "trusted": true,
        "colab": {
          "base_uri": "https://localhost:8080/"
        },
        "id": "MKqOxhBzExjL",
        "outputId": "e3d1031c-d69d-483b-b02a-b9ea4376fcd7"
      },
      "source": [
        "dataset"
      ],
      "execution_count": null,
      "outputs": [
        {
          "output_type": "execute_result",
          "data": {
            "text/plain": [
              "array([[ 133.899994],\n",
              "       [ 134.690002],\n",
              "       [ 132.25    ],\n",
              "       ...,\n",
              "       [3322.      ],\n",
              "       [3285.850098],\n",
              "       [3256.929932]])"
            ]
          },
          "metadata": {},
          "execution_count": 20
        }
      ]
    },
    {
      "cell_type": "markdown",
      "metadata": {
        "id": "h4sXLT-BExjL"
      },
      "source": [
        "### Transforming the dataset array to range between 0 and 1"
      ]
    },
    {
      "cell_type": "code",
      "metadata": {
        "execution": {
          "iopub.status.busy": "2021-08-01T10:05:59.804108Z",
          "iopub.execute_input": "2021-08-01T10:05:59.804588Z",
          "iopub.status.idle": "2021-08-01T10:05:59.821806Z",
          "shell.execute_reply.started": "2021-08-01T10:05:59.804530Z",
          "shell.execute_reply": "2021-08-01T10:05:59.820470Z"
        },
        "trusted": true,
        "id": "tdHics_KExjL"
      },
      "source": [
        "scaler = MinMaxScaler(feature_range=(0, 1)) \n",
        "scaled_data = scaler.fit_transform(dataset)"
      ],
      "execution_count": null,
      "outputs": []
    },
    {
      "cell_type": "code",
      "metadata": {
        "execution": {
          "iopub.status.busy": "2021-08-01T10:05:59.824913Z",
          "iopub.execute_input": "2021-08-01T10:05:59.825373Z",
          "iopub.status.idle": "2021-08-01T10:06:00.156908Z",
          "shell.execute_reply.started": "2021-08-01T10:05:59.825328Z",
          "shell.execute_reply": "2021-08-01T10:06:00.155729Z"
        },
        "trusted": true,
        "id": "WtRvWd62ExjL"
      },
      "source": [
        "train_data = scaled_data[0:training_data_len  , : ]\n",
        "x_train=[]\n",
        "y_train = []\n",
        "for i in range(60,len(train_data)):\n",
        "    x_train.append(train_data[i-60:i,0])\n",
        "    y_train.append(train_data[i,0])"
      ],
      "execution_count": null,
      "outputs": []
    },
    {
      "cell_type": "markdown",
      "metadata": {
        "id": "8PPYkGIxExjM"
      },
      "source": [
        "### Spliting data for training and testing"
      ]
    },
    {
      "cell_type": "code",
      "metadata": {
        "execution": {
          "iopub.status.busy": "2021-08-01T10:06:00.161811Z",
          "iopub.execute_input": "2021-08-01T10:06:00.162182Z",
          "iopub.status.idle": "2021-08-01T10:06:00.561070Z",
          "shell.execute_reply.started": "2021-08-01T10:06:00.162143Z",
          "shell.execute_reply": "2021-08-01T10:06:00.559948Z"
        },
        "trusted": true,
        "id": "4rCL08BjExjM"
      },
      "source": [
        "x_train, y_train = np.array(x_train), np.array(y_train)"
      ],
      "execution_count": null,
      "outputs": []
    },
    {
      "cell_type": "code",
      "metadata": {
        "execution": {
          "iopub.status.busy": "2021-08-01T10:06:00.562975Z",
          "iopub.execute_input": "2021-08-01T10:06:00.563624Z",
          "iopub.status.idle": "2021-08-01T10:06:00.569930Z",
          "shell.execute_reply.started": "2021-08-01T10:06:00.563577Z",
          "shell.execute_reply": "2021-08-01T10:06:00.568537Z"
        },
        "trusted": true,
        "id": "-F81y2zZExjM"
      },
      "source": [
        "x_train = np.reshape(x_train, (x_train.shape[0],x_train.shape[1],1))"
      ],
      "execution_count": null,
      "outputs": []
    },
    {
      "cell_type": "markdown",
      "metadata": {
        "id": "XdYwRrjDExjM"
      },
      "source": [
        "### **Building a LSTM Model for Stock Market Prediction**"
      ]
    },
    {
      "cell_type": "code",
      "metadata": {
        "execution": {
          "iopub.status.busy": "2021-08-01T10:06:00.571848Z",
          "iopub.execute_input": "2021-08-01T10:06:00.572280Z",
          "iopub.status.idle": "2021-08-01T10:06:01.103896Z",
          "shell.execute_reply.started": "2021-08-01T10:06:00.572233Z",
          "shell.execute_reply": "2021-08-01T10:06:01.102759Z"
        },
        "trusted": true,
        "id": "v0xeNGCeExjN"
      },
      "source": [
        "model = Sequential()\n",
        "model.add(LSTM(units=50, return_sequences=True,input_shape=(x_train.shape[1],1)))\n",
        "model.add(LSTM(units=50, return_sequences=False))\n",
        "model.add(Dense(units=25))\n",
        "model.add(Dense(units=1))"
      ],
      "execution_count": null,
      "outputs": []
    },
    {
      "cell_type": "markdown",
      "metadata": {
        "id": "sF09WuoVExjN"
      },
      "source": [
        "### **Using adam optimizer and mean_squared_error as the loss function**"
      ]
    },
    {
      "cell_type": "code",
      "metadata": {
        "execution": {
          "iopub.status.busy": "2021-08-01T10:06:01.105375Z",
          "iopub.execute_input": "2021-08-01T10:06:01.105724Z",
          "iopub.status.idle": "2021-08-01T10:06:01.120739Z",
          "shell.execute_reply.started": "2021-08-01T10:06:01.105689Z",
          "shell.execute_reply": "2021-08-01T10:06:01.119501Z"
        },
        "trusted": true,
        "id": "N8D8zMCWExjN"
      },
      "source": [
        "model.compile(optimizer='adam', loss='mean_squared_error')"
      ],
      "execution_count": null,
      "outputs": []
    },
    {
      "cell_type": "markdown",
      "metadata": {
        "id": "f1texD16UTnN"
      },
      "source": [
        "### **Epochs = 5 as per trial and error method and batch size = 64**"
      ]
    },
    {
      "cell_type": "code",
      "metadata": {
        "execution": {
          "iopub.status.busy": "2021-08-01T10:06:01.122063Z",
          "iopub.execute_input": "2021-08-01T10:06:01.122355Z",
          "iopub.status.idle": "2021-08-01T10:12:29.891614Z",
          "shell.execute_reply.started": "2021-08-01T10:06:01.122326Z",
          "shell.execute_reply": "2021-08-01T10:12:29.890666Z"
        },
        "trusted": true,
        "colab": {
          "base_uri": "https://localhost:8080/"
        },
        "id": "EEfnsFjnExjN",
        "outputId": "86dc9922-cce3-4470-e2e2-72da58f8fe78"
      },
      "source": [
        "model.fit(x_train, y_train, batch_size=64, epochs=5)"
      ],
      "execution_count": null,
      "outputs": [
        {
          "output_type": "stream",
          "name": "stdout",
          "text": [
            "Epoch 1/5\n",
            "34/34 [==============================] - 7s 81ms/step - loss: 0.0023\n",
            "Epoch 2/5\n",
            "34/34 [==============================] - 3s 84ms/step - loss: 1.4746e-04\n",
            "Epoch 3/5\n",
            "34/34 [==============================] - 3s 83ms/step - loss: 7.1117e-05\n",
            "Epoch 4/5\n",
            "34/34 [==============================] - 3s 84ms/step - loss: 6.3308e-05\n",
            "Epoch 5/5\n",
            "34/34 [==============================] - 3s 85ms/step - loss: 6.5671e-05\n"
          ]
        },
        {
          "output_type": "execute_result",
          "data": {
            "text/plain": [
              "<keras.callbacks.History at 0x7fe1632dc490>"
            ]
          },
          "metadata": {},
          "execution_count": 27
        }
      ]
    },
    {
      "cell_type": "markdown",
      "metadata": {
        "id": "Q_1kONDlHCaX"
      },
      "source": [
        "### Creating the x_test and y_test datasets"
      ]
    },
    {
      "cell_type": "code",
      "metadata": {
        "execution": {
          "iopub.status.busy": "2021-08-01T10:12:29.894250Z",
          "iopub.execute_input": "2021-08-01T10:12:29.895018Z",
          "iopub.status.idle": "2021-08-01T10:12:29.957789Z",
          "shell.execute_reply.started": "2021-08-01T10:12:29.894962Z",
          "shell.execute_reply": "2021-08-01T10:12:29.956202Z"
        },
        "trusted": true,
        "id": "nwMRgD9-ExjO"
      },
      "source": [
        "test_data = scaled_data[training_data_len - 60: , : ]\n",
        "x_test = []\n",
        "y_test =  dataset[training_data_len : , : ] \n",
        "for i in range(60,len(test_data)):\n",
        "    x_test.append(test_data[i-60:i,0])\n"
      ],
      "execution_count": null,
      "outputs": []
    },
    {
      "cell_type": "code",
      "metadata": {
        "execution": {
          "iopub.status.busy": "2021-08-01T10:12:29.959297Z",
          "iopub.execute_input": "2021-08-01T10:12:29.959669Z",
          "iopub.status.idle": "2021-08-01T10:12:30.051660Z",
          "shell.execute_reply.started": "2021-08-01T10:12:29.959637Z",
          "shell.execute_reply": "2021-08-01T10:12:30.050280Z"
        },
        "trusted": true,
        "id": "kiyaE9zEExjO"
      },
      "source": [
        "x_test = np.array(x_test)"
      ],
      "execution_count": null,
      "outputs": []
    },
    {
      "cell_type": "code",
      "metadata": {
        "execution": {
          "iopub.status.busy": "2021-08-01T10:12:30.053654Z",
          "iopub.execute_input": "2021-08-01T10:12:30.054130Z",
          "iopub.status.idle": "2021-08-01T10:12:30.060209Z",
          "shell.execute_reply.started": "2021-08-01T10:12:30.054082Z",
          "shell.execute_reply": "2021-08-01T10:12:30.058839Z"
        },
        "trusted": true,
        "id": "d-YiO8INExjO"
      },
      "source": [
        "x_test = np.reshape(x_test, (x_test.shape[0],x_test.shape[1],1))"
      ],
      "execution_count": null,
      "outputs": []
    },
    {
      "cell_type": "markdown",
      "metadata": {
        "id": "ga0EhCYIHUQF"
      },
      "source": [
        "### Prediction on test dataset"
      ]
    },
    {
      "cell_type": "code",
      "metadata": {
        "execution": {
          "iopub.status.busy": "2021-08-01T10:12:30.062437Z",
          "iopub.execute_input": "2021-08-01T10:12:30.062966Z",
          "iopub.status.idle": "2021-08-01T10:13:13.099454Z",
          "shell.execute_reply.started": "2021-08-01T10:12:30.062916Z",
          "shell.execute_reply": "2021-08-01T10:13:13.098129Z"
        },
        "trusted": true,
        "id": "HnDpJeIbExjO"
      },
      "source": [
        "predictions = model.predict(x_test) \n",
        "predictions = scaler.inverse_transform(predictions)"
      ],
      "execution_count": null,
      "outputs": []
    },
    {
      "cell_type": "markdown",
      "metadata": {
        "id": "VGvAs_OoExjO"
      },
      "source": [
        "### **Finding the root mean squared error, mean absolue error and mean squared error**"
      ]
    },
    {
      "cell_type": "code",
      "metadata": {
        "colab": {
          "base_uri": "https://localhost:8080/"
        },
        "id": "DY8LgsXdHXQU",
        "outputId": "a2cfc73c-04f1-43ea-ffc4-b5620e2fdf4e"
      },
      "source": [
        "mae_lstm =  mean_absolute_error(y_test,predictions)\n",
        "\n",
        "mse_lstm =  mean_squared_error(y_test,predictions)\n",
        "\n",
        "rmse_lstm = np.sqrt(mse_lstm)\n",
        "\n",
        "print('\\033[1m' + \"Long Short-Term Memory\")\n",
        "print(\"MAE: {0:.4f}\".format(mae_lstm))\n",
        "print(\"MSE: {0:.4f}\".format(mse_lstm))\n",
        "print(\"RMSE: {0:.4f}\".format(rmse_lstm))\n",
        "\n"
      ],
      "execution_count": null,
      "outputs": [
        {
          "output_type": "stream",
          "name": "stdout",
          "text": [
            "\u001b[1mLong Short-Term Memory\n",
            "MAE: 94.8269\n",
            "MSE: 16582.2000\n",
            "RMSE: 128.7719\n"
          ]
        }
      ]
    },
    {
      "cell_type": "markdown",
      "metadata": {
        "id": "kSS861yaExjP"
      },
      "source": [
        "### **Plotting the predicted values**\n",
        "\n",
        "Blue color - Plot of Training Data\n",
        "\n",
        "Orange color - Plot of Validation Data\n",
        "\n",
        "Green color - Prediction of Validation Data\n"
      ]
    },
    {
      "cell_type": "code",
      "metadata": {
        "execution": {
          "iopub.status.busy": "2021-08-01T10:13:33.011065Z",
          "iopub.execute_input": "2021-08-01T10:13:33.011467Z",
          "iopub.status.idle": "2021-08-01T10:13:33.367244Z",
          "shell.execute_reply.started": "2021-08-01T10:13:33.011435Z",
          "shell.execute_reply": "2021-08-01T10:13:33.366085Z"
        },
        "trusted": true,
        "colab": {
          "base_uri": "https://localhost:8080/",
          "height": 622
        },
        "id": "Ze_mWOwcExjP",
        "outputId": "843e3003-4874-4788-e0b7-feeaa557d3ee"
      },
      "source": [
        "train = data[:training_data_len]\n",
        "display = data[training_data_len:]\n",
        "display['Predictions'] = predictions#Visualize the data\n",
        "plt.figure(figsize=(16,8))\n",
        "plt.title('Model')\n",
        "plt.xlabel('Date', fontsize=18)\n",
        "plt.ylabel('Close Price INR', fontsize=18)\n",
        "plt.plot(train['Close'])\n",
        "plt.plot(display['Close'])\n",
        "plt.plot(display['Predictions'])\n",
        "plt.legend(['Train', 'Val', 'Predictions'], loc='upper right')\n",
        "plt.show()"
      ],
      "execution_count": null,
      "outputs": [
        {
          "output_type": "stream",
          "name": "stderr",
          "text": [
            "/usr/local/lib/python3.7/dist-packages/ipykernel_launcher.py:3: SettingWithCopyWarning: \n",
            "A value is trying to be set on a copy of a slice from a DataFrame.\n",
            "Try using .loc[row_indexer,col_indexer] = value instead\n",
            "\n",
            "See the caveats in the documentation: https://pandas.pydata.org/pandas-docs/stable/user_guide/indexing.html#returning-a-view-versus-a-copy\n",
            "  This is separate from the ipykernel package so we can avoid doing imports until\n"
          ]
        },
        {
          "output_type": "display_data",
          "data": {
            "image/png": "[encoded data removed]",
            "text/plain": [
              "<Figure size 1152x576 with 1 Axes>"
            ]
          },
          "metadata": {
            "needs_background": "light"
          }
        }
      ]
    },
    {
      "cell_type": "markdown",
      "metadata": {
        "id": "AZzBE6npH3D4"
      },
      "source": [
        "# **Final Result**"
      ]
    },
    {
      "cell_type": "code",
      "metadata": {
        "colab": {
          "base_uri": "https://localhost:8080/"
        },
        "id": "86c4Q_Qw_Qrt",
        "outputId": "fe93023f-b2fb-40c4-9ad2-1d8c247c08ab"
      },
      "source": [
        "print('\\033[1m' + \"Simple Linear Regression \\t       Decision Tree Regression \\t       Random Forest Regression \\t            Long Short-Term Memory\")\n",
        "print(\"MAE: {0:.4f} \\t\\t               MAE: {1:.4f} \\t                       MAE: {2:.4f}\\t                            MAE: {3:.4f}\".format(mae_lr,mae_dt,mae_rfr,mae_lstm))\n",
        "print(\"MSE: {0:.4f} \\t\\t               MSE: {1:.4f} \\t                       MSE: {2:.4f}\\t                            MSE: {3:.4f}\".format(mse_lr,mse_dt,mse_rfr,mse_lstm))\n",
        "print(\"RMSE: {0:.4f} \\t\\t               RMSE: {1:.4f} \\t                       RMSE: {2:.4f}\\t                            RMSE: {3:.4f}\".format(rmse_lr,rmse_dt,rmse_rfr,rmse_lstm))\n"
      ],
      "execution_count": null,
      "outputs": [
        {
          "output_type": "stream",
          "name": "stdout",
          "text": [
            "\u001b[1mSimple Linear Regression \t       Decision Tree Regression \t       Random Forest Regression \t            Long Short-Term Memory\n",
            "MAE: 5.0599 \t\t               MAE: 8.8233 \t                       MAE: 6.9075\t                            MAE: 94.8269\n",
            "MSE: 104.9888 \t\t               MSE: 327.9825 \t                       MSE: 188.3498\t                            MSE: 16582.2000\n",
            "RMSE: 10.2464 \t\t               RMSE: 18.1103 \t                       RMSE: 13.7241\t                            RMSE: 128.7719\n"
          ]
        }
      ]
    },
    {
      "cell_type": "markdown",
      "metadata": {
        "id": "np_pmvJ9Hpa_"
      },
      "source": [
        "# **Conclusion**"
      ]
    },
    {
      "cell_type": "markdown",
      "metadata": {
        "id": "ID-HucfwHu5T"
      },
      "source": [
        "We implemented the Simple Linear Regression algorithm, Decision Tree Regression algorithm, Random Forest Regression algorithm and Long Short-Term Memory algorithm on the Stock market data from 4 January 2010 to 31 December 2020 to predict its stock price.\n",
        "\n",
        "As the results show, the lowest RMSE was found for Simple Linear Regression algorithm. This was the best from all the four algorithms. The next was Random Forest followed by Decision tree algorithm to predict the nearest close value of the stock price. The most RMSE was found for LSTM.\n",
        "\n",
        "Ranking all the four algorithms from best to least to predict the close value of stock price are:\n",
        "\n",
        "**I - Simple Linear Regression**\n",
        "\n",
        "**II - Random Forest Regression**\n",
        "\n",
        "**III - Decision Tree Regression**\n",
        "\n",
        "**IV - Long Short-Term Memory**"
      ]
    }
  ]
}